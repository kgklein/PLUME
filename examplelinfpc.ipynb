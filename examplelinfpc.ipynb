{
 "cells": [
  {
   "cell_type": "markdown",
   "metadata": {},
   "source": [
    "# Example predictions of field particle correlation signatures\n",
    "Here, we predict the signatures found in Howes 2017 (a kinetic alfven wave experiencing landau damping) as an example and generate relevant dispersion relations plots. \n",
    "\n",
    "Please, open a terminal, navigate to the install directory, make PLUME (run 'make all'), and run all the cells in this notebook to verify that everything is working correctly.\n",
    "\n",
    "This notebook and related libraries serve as wrappers that make and call input files for plume by calling commands like \"os.system('./plume.e *flnm*.in >> outlog' \". One can also use ./plume.e *flnm*.in to run plume.\n",
    "\n",
    "If things are not behaving as expected, please check the outlog, where all plume output is saved when using this notebook.\n",
    "\n",
    "*** Please check outlog for any warnings that PLUME might create and write to the outlog. These warnings *will not* be presented here in any way. Using this notebook, one may input parameters that allows the solver to run, but violates assumptions made when deriving the equations used by the solver ***\n",
    "\n",
    "Note: Here, we make a class 'plumeinput' that contains input parameters which are accumulated throughout this notebook. Please be sure to run all above inputs containing 'plumeinput.*command*(*arguments*)', before making any 'lfpc.*function*(*arguments*)' call, as the wrapper class may need prior parameters.\n",
    "\n",
    "Warning: these scripts only support using two species currently (Nov 9 2023)"
   ]
  },
  {
   "cell_type": "markdown",
   "metadata": {},
   "source": [
    "## Load libraries, and enter parameters"
   ]
  },
  {
   "cell_type": "code",
   "execution_count": 1,
   "metadata": {},
   "outputs": [],
   "source": [
    "import linfpclib.linfpc as lfpc\n",
    "import linfpclib.linfpcplot as lp\n",
    "\n",
    "import os\n",
    "import numpy as np"
   ]
  },
  {
   "cell_type": "code",
   "execution_count": 2,
   "metadata": {
    "scrolled": true
   },
   "outputs": [
    {
     "data": {
      "text/plain": [
       "<module 'linfpclib.linfpcplot' from '/Users/work/Documents/Research/LinKinTheory/LinFPCPaperAndData/PLUME/linfpclib/linfpcplot.py'>"
      ]
     },
     "execution_count": 2,
     "metadata": {},
     "output_type": "execute_result"
    }
   ],
   "source": [
    "#if a change is made to the above libraries, one can either restart the notebook, \n",
    "#  or call these functions to load changes in library\n",
    "import importlib\n",
    "importlib.reload(lfpc)\n",
    "importlib.reload(lp)"
   ]
  },
  {
   "cell_type": "code",
   "execution_count": 3,
   "metadata": {},
   "outputs": [],
   "source": [
    "filetag = 'howes2017' #this will be used to name all output files and folders\n",
    "plumeinput = lfpc.plume_input(filetag)"
   ]
  },
  {
   "cell_type": "code",
   "execution_count": 4,
   "metadata": {},
   "outputs": [],
   "source": [
    "betap=1\n",
    "kperp=1.3\n",
    "kpar=.05 #not specified in paper but when kpar << 1, exact number is not needed as dynamics don't change much in this regime\n",
    "vtp=1.0E-4\n",
    "nspec=2\n",
    "nscan=1\n",
    "option=1\n",
    "nroot_max=20\n",
    "use_map=True\n",
    "writeOut=True\n",
    "\n",
    "plumeinput.set_params(betap,kperp,kpar,vtp,nspec,nscan,option,\\\n",
    "                    nroot_max,use_map,writeOut)"
   ]
  },
  {
   "cell_type": "code",
   "execution_count": 5,
   "metadata": {},
   "outputs": [
    {
     "name": "stdout",
     "output_type": "stream",
     "text": [
      "No species found, creating first species...\n"
     ]
    }
   ],
   "source": [
    "#make ions\n",
    "tauS=1.0\n",
    "muS=1.0\n",
    "alphS=1.0\n",
    "Qs=1.0\n",
    "Ds=1.0\n",
    "vvS=0.\n",
    "plumeinput.make_species(tauS, muS, alphS, Qs, Ds, vvS, spec_n = 1) #be sure to specify species number"
   ]
  },
  {
   "cell_type": "code",
   "execution_count": 6,
   "metadata": {},
   "outputs": [
    {
     "name": "stdout",
     "output_type": "stream",
     "text": [
      "Appending species to list. Total species is now  2\n"
     ]
    }
   ],
   "source": [
    "#make elecs\n",
    "tauS=1\n",
    "muS=1836\n",
    "alphS=1.0\n",
    "Qs=-1.0\n",
    "Ds=1.0\n",
    "vvS=0.\n",
    "plumeinput.make_species(tauS, muS, alphS, Qs, Ds, vvS, spec_n = 2)"
   ]
  },
  {
   "cell_type": "code",
   "execution_count": 7,
   "metadata": {},
   "outputs": [],
   "source": [
    "#given the fixed above parameters, PLUME solves the dispersion relation for values over the range of omega\n",
    "#and gamma given below. It initializes a grid (either log spaced or evenly spaced) and does it's best to find \n",
    "#all roots in this range. For each grid point, gradient descent is used to try and find a nearby solution.\n",
    "#Sometimes this results in no found root. Sometimes roots are found outside the sweep range \n",
    "#(both close to the range, and very far from it)\n",
    "loggridw=False\n",
    "omi=-1.0E-02\n",
    "omf=1.0E-0\n",
    "gami=-2.0E-01\n",
    "gamf=2.0E-01\n",
    "positive_roots=True\n",
    "plumeinput.set_maps(loggridw,omi,omf,gami,gamf,positive_roots)"
   ]
  },
  {
   "cell_type": "code",
   "execution_count": 8,
   "metadata": {},
   "outputs": [
    {
     "name": "stdout",
     "output_type": "stream",
     "text": [
      "mkdir input/howes2017/\n"
     ]
    },
    {
     "name": "stderr",
     "output_type": "stream",
     "text": [
      "mkdir: input/howes2017/: File exists\n"
     ]
    },
    {
     "data": {
      "text/plain": [
       "256"
      ]
     },
     "execution_count": 8,
     "metadata": {},
     "output_type": "execute_result"
    }
   ],
   "source": [
    "inputfldr= 'input/'+filetag+'/' #folder where all generated input files will be placed\n",
    "cmd = 'mkdir '+inputfldr\n",
    "print(cmd)\n",
    "os.system(cmd) #256 exit code means folder already exits (no need to worry), 0 means it sucessfully made the folder"
   ]
  },
  {
   "cell_type": "markdown",
   "metadata": {},
   "source": [
    "## Find roots"
   ]
  },
  {
   "cell_type": "code",
   "execution_count": 9,
   "metadata": {},
   "outputs": [
    {
     "name": "stdout",
     "output_type": "stream",
     "text": [
      "OVERWRITING OPTION; TODO CHECK THAT plume_input IS CORRECT INSTEAD...\n",
      "Rewriting file...\n",
      "mkdir data/howes2017\n",
      "./plume.e input/howes2017/roots.in >> outlog\n"
     ]
    },
    {
     "name": "stderr",
     "output_type": "stream",
     "text": [
      "mkdir: data/howes2017: File exists\n"
     ]
    },
    {
     "name": "stdout",
     "output_type": "stream",
     "text": [
      "Reading roots from  data/howes2017/dispersion_howes2017.roots\n"
     ]
    }
   ],
   "source": [
    "roots = lfpc.compute_roots(plumeinput,inputfldr+'roots',filetag)"
   ]
  },
  {
   "cell_type": "code",
   "execution_count": 10,
   "metadata": {
    "scrolled": false
   },
   "outputs": [
    {
     "data": {
      "image/png": "[encoded data removed]",
      "text/plain": [
       "<Figure size 640x480 with 1 Axes>"
      ]
     },
     "metadata": {},
     "output_type": "display_data"
    }
   ],
   "source": [
    "import matplotlib.pyplot as plt\n",
    "oms = [rt.real for rt in roots]\n",
    "gams = [rt.imag for rt in roots]\n",
    "lbls = [_i for _i in range(0,len(oms))]\n",
    "\n",
    "plt.figure()\n",
    "plt.scatter(oms,gams)\n",
    "plt.xlim(0,.2)\n",
    "plt.ylim(-.2,0)\n",
    "for _i, txt in enumerate(lbls):\n",
    "    plt.gca().annotate(txt, (oms[_i], gams[_i]))\n",
    "plt.gca().set_aspect('equal')\n",
    "plt.grid()\n",
    "plt.xlabel(r\"$\\omega$\") #normalized as in PLUME \n",
    "plt.ylabel(r\"$\\gamma / \\omega$\")\n",
    "plt.show()"
   ]
  },
  {
   "cell_type": "markdown",
   "metadata": {},
   "source": [
    "## Select root to compute dispersion relation as a function of selected variable and predict damping contribution by mechanisms \n",
    "The following block of code will plot the dispersion relation for the root at index 2"
   ]
  },
  {
   "cell_type": "code",
   "execution_count": 11,
   "metadata": {},
   "outputs": [
    {
     "data": {
      "text/plain": [
       "(0.061719-0.0022112j)"
      ]
     },
     "execution_count": 11,
     "metadata": {},
     "output_type": "execute_result"
    }
   ],
   "source": [
    "rootidx = 2\n",
    "roots[rootidx] #later we show that this is the alfven root"
   ]
  },
  {
   "cell_type": "code",
   "execution_count": 12,
   "metadata": {},
   "outputs": [
    {
     "name": "stdout",
     "output_type": "stream",
     "text": [
      "OVERWRITING OPTION AND NUM GUESS AND USE_MAP; TODO CHECK THAT plume_input IS CORRECT INSTEAD...\n",
      "Rewriting file...\n",
      "./plume.e input/howes2017/sweepsweep1.in >> outlog\n",
      "Rewriting file...\n",
      "./plume.e input/howes2017/sweepsweep2.in >> outlog\n",
      "Loading  data/howes2017/sweepsweep1_kperp_1300_100000.mode1 ...\n",
      "WARNING: assuming 2 species...\n",
      " TODO: write load_plume_sweep_nspec...\n",
      "WARNING: assuming new_low_n is true (rather than low_n)\n",
      "If unsure, please check vars.f90 (change requires recompile)\n",
      "If both are true, new_low_n is used\n",
      "Loading  data/howes2017/sweepsweep2_kperp_1300_100.mode1 ...\n",
      "WARNING: assuming 2 species...\n",
      " TODO: write load_plume_sweep_nspec...\n",
      "WARNING: assuming new_low_n is true (rather than low_n)\n",
      "If unsure, please check vars.f90 (change requires recompile)\n",
      "If both are true, new_low_n is used\n",
      "Combining data and returning as 1 sweep...\n"
     ]
    }
   ],
   "source": [
    "importlib.reload(lfpc)\n",
    "sweepvarkey = 'kperp' #change this variable to sweep over other variables\n",
    "                      #wrapper currently supports kperp, kpar, betap, and vtp sweeps\n",
    "                      #see readme for all available sweep options\n",
    "sweepmin = .1\n",
    "sweepmax = 100\n",
    "root = roots[rootidx]\n",
    "inputflnm = inputfldr+'sweep'\n",
    "outputname = 'sweep'\n",
    "sweep = lfpc.make_sweeps_that_branch_from_params(plumeinput,sweepvarkey,sweepmin,sweepmax,root,inputflnm,outputname,outlog='outlog',nsamps=50)"
   ]
  },
  {
   "cell_type": "code",
   "execution_count": 13,
   "metadata": {},
   "outputs": [
    {
     "data": {
      "image/png": "[encoded data removed]",
      "text/plain": [
       "<Figure size 640x480 with 1 Axes>"
      ]
     },
     "metadata": {},
     "output_type": "display_data"
    }
   ],
   "source": [
    "#'verify' that we have the alfven branch solution \n",
    "#(often more analysis will be needed, but sometimes one can use intuition to select the correct branch)\n",
    "#(for example, here we know it is the alfven branch solution as the wave goes dispersive at kperprhoi~1)\n",
    "#(an b/c it evenutally 'hits a resonance and flattens out')\n",
    "#(later this is verified by getting an accurate FPC prediction )\n",
    "plt.figure()\n",
    "xplot = sweep['kperp']\n",
    "yplot = sweep['w']\n",
    "plt.loglog(xplot,yplot)\n",
    "plt.scatter(plumeinput.params['kperp'],roots[rootidx].real)\n",
    "plt.xlabel(r\"$k_\\perp \\rho_i$\")\n",
    "plt.ylabel(r\"$\\omega / \\Omega_i$\")\n",
    "plt.ylim(0.01,1.1)\n",
    "plt.grid()\n",
    "plt.show()"
   ]
  },
  {
   "cell_type": "code",
   "execution_count": 14,
   "metadata": {},
   "outputs": [
    {
     "name": "stdout",
     "output_type": "stream",
     "text": [
      "dict_keys(['kperp', 'kpar', 'betap', 'vtp', 'w', 'g', 'bxr', 'bxi', 'byr', 'byi', 'bzr', 'bzi', 'exr', 'exi', 'eyr', 'eyi', 'ezr', 'ezi', 'ux1r', 'ux1i', 'uy1r', 'uy1i', 'uz1r', 'uz1i', 'ux2r', 'ux2i', 'uy2r', 'uy2i', 'uz2r', 'uz2i', 'n1r', 'n1i', 'n2r', 'n2i', 'ps1', 'ps2', 'p1ld1', 'p1ld2', 'p1ttd1', 'p1ttd2', 'p1n0', 'p1cd', 'p2ld1', 'p2ld2', 'p2ttd1', 'p2ttd2', 'p2n0', 'p2cd'])\n"
     ]
    }
   ],
   "source": [
    "#other keys that can be plotted as a function of sweepvarkey\n",
    "print(sweep.keys())"
   ]
  },
  {
   "cell_type": "code",
   "execution_count": 15,
   "metadata": {},
   "outputs": [
    {
     "data": {
      "image/png": "[encoded data removed]",
      "text/plain": [
       "<Figure size 640x480 with 1 Axes>"
      ]
     },
     "metadata": {},
     "output_type": "display_data"
    }
   ],
   "source": [
    "#plot power rate due to different mechanisms/ susc tensor 'splits' \n",
    "#INTO the particles in units of gamma/omega\n",
    "\n",
    "#note: here, a positive power means particles are gaining energy, \n",
    "#i.e. the wave is losing energy\n",
    "#This is the opposite convention used above for the dispersion relation\n",
    "\n",
    "#note: as values can be positive and negative, \n",
    "#we separate into positive and negative ararys to plot using a log scale\n",
    "#Here, we only plot positive values of power\n",
    "\n",
    "#p1 is species 1, ions. p2 is species 2, electrons\n",
    "\n",
    "\n",
    "ildposh = sweep['p1ld1']+sweep['p1ld2']\n",
    "ildnegh = -1*(sweep['p1ld1']+sweep['p1ld2'])\n",
    "eldposh = (sweep['p2ld1']+sweep['p2ld2'])\n",
    "eldnegh = -1*(sweep['p1ld1']+sweep['p1ld2'])\n",
    "\n",
    "ittdposh = sweep['p1ttd1']+sweep['p1ttd2']\n",
    "ittdnegh = -1*(sweep['p1ttd1']+sweep['p1ttd2'])\n",
    "ettdposh = (sweep['p2ttd1']+sweep['p2ttd2'])\n",
    "ettdnegh = -1*(sweep['p2ttd1']+sweep['p2ttd2'])\n",
    "\n",
    "itoth = sweep['ps1']\n",
    "etoth = sweep['ps2']\n",
    "\n",
    "gamma_over_omega = []\n",
    "for _i in range(0,len(sweep['kperp'])):\n",
    "    gamma_over_omega.append(-sweep['g'][_i]/sweep['w'][_i])\n",
    "gamma_over_omega = np.asarray(gamma_over_omega)\n",
    "\n",
    "ildpose = sweep['p1ld1']+sweep['p1ld2']\n",
    "ildnege = -1*(sweep['p1ld1']+sweep['p1ld2'])\n",
    "eldpose = (sweep['p2ld1']+sweep['p2ld2'])\n",
    "eldnege = -1*(sweep['p1ld1']+sweep['p1ld2'])\n",
    "\n",
    "ittdpose = sweep['p1ttd1']+sweep['p1ttd2']\n",
    "ittdnege = -1*(sweep['p1ttd1']+sweep['p1ttd2'])\n",
    "ettdpose = (sweep['p2ttd1']+sweep['p2ttd2'])\n",
    "ettdnege = -1*(sweep['p2ttd1']+sweep['p2ttd2'])\n",
    "\n",
    "itote = sweep['ps1']\n",
    "etote = sweep['ps2']\n",
    "\n",
    "gamma_over_omegae = []\n",
    "for _i in range(0,len(sweep['kperp'])):\n",
    "    gamma_over_omegae.append(-sweep['g'][_i]/sweep['w'][_i])\n",
    "gamma_over_omegae = np.asarray(gamma_over_omegae)\n",
    "\n",
    "fig = plt.plot(figsize=(8,8))\n",
    "plt.loglog(sweep['kperp'],itoth,color='red',label=r'$\\gamma_i/\\omega$',ls='-',lw=2)\n",
    "plt.loglog(sweep['kperp'],etoth,color='blue',label=r'$\\gamma_e/\\omega$',ls='-',lw=2)\n",
    "plt.loglog(sweep['kperp'],ildposh,color='red',label=r'$\\gamma_{i,ld}/\\omega$',ls='-.',lw=2)\n",
    "plt.loglog(sweep['kperp'],eldposh,color='blue',label=r'$\\gamma_{e,ld}/\\omega$',ls='-.',lw=2)\n",
    "plt.loglog(sweep['kperp'],ittdposh,color='red',label=r'$\\gamma_{i,ttd}/\\omega$',ls='--',lw=2)\n",
    "plt.loglog(sweep['kperp'],ettdposh,color='blue',label=r'$\\gamma_{e,ttd}/\\omega$',ls='--',lw=2)\n",
    "plt.loglog(sweep['kperp'],gamma_over_omega,color='black',label=r'$\\gamma/\\omega$',lw=.75)\n",
    "\n",
    "plt.legend(fontsize=12)\n",
    "\n",
    "plt.tick_params(axis='both', which='both', direction='in',top=True, bottom=True, right=True, left=True)\n",
    "plt.grid()\n",
    "\n",
    "plt.ylabel(r'$-\\gamma/\\omega$')\n",
    "plt.xlabel(r'$k_\\perp \\rho_i$')\n",
    "\n",
    "plt.ylim(0.0001,1)\n",
    "plt.xlim(0.1,30)\n",
    "\n",
    "plt.show()\n",
    "plt.close()"
   ]
  },
  {
   "cell_type": "markdown",
   "metadata": {},
   "source": [
    "## Sweep over two variables from selected root"
   ]
  },
  {
   "cell_type": "code",
   "execution_count": 130,
   "metadata": {
    "scrolled": true
   },
   "outputs": [
    {
     "name": "stdout",
     "output_type": "stream",
     "text": [
      "OVERWRITING OPTION AND NUM GUESS AND USE_MAP; TODO CHECK THAT plume_input IS CORRECT INSTEAD...\n",
      "Rewriting file...\n",
      "./plume.e input/howes2017/2varsweepsweep1.in >> outlog\n",
      "Rewriting file...\n",
      "./plume.e input/howes2017/2varsweepsweep2.in >> outlog\n",
      "Rewriting file...\n",
      "./plume.e input/howes2017/2varsweepsweep3.in >> outlog\n",
      "Rewriting file...\n",
      "./plume.e input/howes2017/2varsweepsweep4.in >> outlog\n",
      "Loading  data/howes2017/2varsweepsweep1_kperp_kpar.mode1 ...\n",
      "WARNING: assuming 2 species...\n",
      " TODO: write load_plume_sweep_nspec...\n",
      "WARNING: assuming new_low_n is true (rather than low_n)\n",
      "If unsure, please check vars.f90 (change requires recompile)\n",
      "If both are true, new_low_n is used\n",
      "Loading  data/howes2017/2varsweepsweep2_kperp_kpar.mode1 ...\n",
      "WARNING: assuming 2 species...\n",
      " TODO: write load_plume_sweep_nspec...\n",
      "WARNING: assuming new_low_n is true (rather than low_n)\n",
      "If unsure, please check vars.f90 (change requires recompile)\n",
      "If both are true, new_low_n is used\n",
      "Loading  data/howes2017/2varsweepsweep3_kperp_kpar.mode1 ...\n",
      "WARNING: assuming 2 species...\n",
      " TODO: write load_plume_sweep_nspec...\n",
      "WARNING: assuming new_low_n is true (rather than low_n)\n",
      "If unsure, please check vars.f90 (change requires recompile)\n",
      "If both are true, new_low_n is used\n",
      "Loading  data/howes2017/2varsweepsweep4_kperp_kpar.mode1 ...\n",
      "WARNING: assuming 2 species...\n",
      " TODO: write load_plume_sweep_nspec...\n",
      "WARNING: assuming new_low_n is true (rather than low_n)\n",
      "If unsure, please check vars.f90 (change requires recompile)\n",
      "If both are true, new_low_n is used\n",
      "Combining data and returning as 1 sweep...\n",
      "Data has no particular order.\n"
     ]
    }
   ],
   "source": [
    "importlib.reload(lfpc)\n",
    "importlib.reload(lp)\n",
    "\n",
    "\n",
    "var1key = 'kperp'\n",
    "var2key = 'kpar'\n",
    "\n",
    "var1min = 0.5\n",
    "var1max = 5\n",
    "var2min = 0.5\n",
    "var2max = 5\n",
    "\n",
    "stylenum1 = 0\n",
    "stylenum2 = 0\n",
    "\n",
    "inputflnm = inputfldr+'2varsweep'\n",
    "outputname = '2varsweep'\n",
    "\n",
    "sweep2d = lfpc.branch_2var_scan_from_root(plumeinput,stylenum1,stylenum2,var1key,var1min,var1max,var2key,var2min,var2max,root,inputflnm,outputname,verbose=True,outlog='outlog',nsamps=20)\n",
    "    "
   ]
  },
  {
   "cell_type": "code",
   "execution_count": 139,
   "metadata": {},
   "outputs": [
    {
     "data": {
      "image/png": "[encoded data removed]",
      "text/plain": [
       "<Figure size 640x480 with 2 Axes>"
      ]
     },
     "metadata": {},
     "output_type": "display_data"
    }
   ],
   "source": [
    "import numpy as np\n",
    "import matplotlib.pyplot as plt\n",
    "from matplotlib.tri import Triangulation\n",
    "from matplotlib.colors import LogNorm\n",
    "\n",
    "x = sweep2d['kperp']\n",
    "y = sweep2d['kpar']\n",
    "z = sweep2d['w']\n",
    "\n",
    "triang = Triangulation(x, y)\n",
    "plt.tripcolor(triang, z, cmap='viridis', edgecolors='none', vmin=-10,vmax=10)\n",
    "cbar = plt.colorbar(label='Z-axis', norm=LogNorm())\n",
    "\n",
    "plt.xlabel('kperp')\n",
    "plt.ylabel('kpar')\n",
    "plt.show()\n",
    "\n"
   ]
  },
  {
   "cell_type": "code",
   "execution_count": null,
   "metadata": {},
   "outputs": [
    {
     "name": "stdout",
     "output_type": "stream",
     "text": [
      "OVERWRITING OPTION AND NUM GUESS AND USE_MAP; TODO CHECK THAT plume_input IS CORRECT INSTEAD...\n",
      "Rewriting file...\n",
      "./plume.e input/howes2017/2varsweepsweep1.in >> outlog\n",
      "Rewriting file...\n",
      "./plume.e input/howes2017/2varsweepsweep2.in >> outlog\n",
      "Rewriting file...\n",
      "./plume.e input/howes2017/2varsweepsweep3.in >> outlog\n"
     ]
    }
   ],
   "source": [
    "importlib.reload(lfpc)\n",
    "importlib.reload(lp)\n",
    "\n",
    "\n",
    "var1key = 'betap'\n",
    "var2key = 'alphS'\n",
    "\n",
    "var1min = 0.1\n",
    "var1max = 10\n",
    "var2min = 0.1\n",
    "var2max = 10\n",
    "\n",
    "stylenum1 = 0\n",
    "stylenum2 = 1\n",
    "\n",
    "inputflnm = inputfldr+'2varsweep'\n",
    "outputname = '2varsweep'\n",
    "\n",
    "sweep2d_2 = lfpc.branch_2var_scan_from_root(plumeinput,stylenum1,stylenum2,var1key,var1min,var1max,var2key,var2min,var2max,root,inputflnm,outputname,verbose=True,outlog='outlog',nsamps=50)\n",
    "    "
   ]
  },
  {
   "cell_type": "code",
   "execution_count": null,
   "metadata": {},
   "outputs": [],
   "source": [
    "sweep2d_2.keys()"
   ]
  },
  {
   "cell_type": "code",
   "execution_count": null,
   "metadata": {},
   "outputs": [],
   "source": [
    "for _val in sweep2d_2['g']:\n",
    "    print(_val)"
   ]
  },
  {
   "cell_type": "code",
   "execution_count": null,
   "metadata": {},
   "outputs": [],
   "source": [
    "import numpy as np\n",
    "import matplotlib.pyplot as plt\n",
    "from matplotlib.tri import Triangulation\n",
    "from matplotlib.colors import LogNorm\n",
    "\n",
    "\n",
    "x = sweep2d_2['betap']\n",
    "y = sweep2d_2['p1alph']\n",
    "z = sweep2d_2['g']\n",
    "\n",
    "\n",
    "triang = Triangulation(x, y)\n",
    "plt.tripcolor(triang, z, cmap='viridis', edgecolors='none',vmin = -0.1, vmax = .1)\n",
    "cbar = plt.colorbar(label='Z-axis', norm=LogNorm())\n",
    "\n",
    "plt.xlabel(var1key)\n",
    "plt.ylabel(var2key)\n",
    "plt.xscale('log')\n",
    "plt.yscale('log')\n",
    "plt.show()\n",
    "\n",
    "\n"
   ]
  },
  {
   "cell_type": "markdown",
   "metadata": {},
   "source": [
    "## Predict FPC signature of selected root and fs1 in gyro coordinates\n",
    "\n",
    "The following blocks of code will generate 8 figures in the 'figures' folder of the parallel correlation, perpendicular correlation, and real/imag component of fs1 for both species."
   ]
  },
  {
   "cell_type": "code",
   "execution_count": 16,
   "metadata": {},
   "outputs": [],
   "source": [
    "vperpmin = .05\n",
    "vperpmax = 3\n",
    "vparmin = -3\n",
    "vparmax = 3\n",
    "delv = .15\n",
    "plumeinput.set_fpc(vperpmin,vperpmax,vparmin,vparmax,delv)"
   ]
  },
  {
   "cell_type": "code",
   "execution_count": 17,
   "metadata": {},
   "outputs": [],
   "source": [
    "scan_type=0\n",
    "scan_style=0\n",
    "swi=0\n",
    "swf=0\n",
    "swlog=True\n",
    "ns=0\n",
    "nres=1\n",
    "heating=True #While no sweep is performed here, we need to define these bools, (heating and eigen)\n",
    "eigen=True\n",
    "plumeinput.make_scan(scan_type,scan_style,swi,swf,swlog,ns,nres,heating,eigen)"
   ]
  },
  {
   "cell_type": "code",
   "execution_count": 18,
   "metadata": {},
   "outputs": [
    {
     "name": "stdout",
     "output_type": "stream",
     "text": [
      "OVERWRITING OPTION AND NUM GUESS AND USE_MAP; TODO CHECK THAT plume_input IS CORRECT INSTEAD...\n",
      "Forcing input file to use root as initial guess\n",
      "Rewriting file...\n",
      "mkdir data/howes2017\n",
      "./plume.e input/howes2017/fpc.in >> outlog\n"
     ]
    },
    {
     "name": "stderr",
     "output_type": "stream",
     "text": [
      "mkdir: data/howes2017: File exists\n"
     ]
    }
   ],
   "source": [
    "importlib.reload(lfpc)\n",
    "\n",
    "inputflnm = inputfldr+'fpc'\n",
    "outputflnm = 'fpc'\n",
    "cdataflnms = lfpc.compute_fpc_from_root(plumeinput,roots[rootidx],inputflnm,outputflnm)"
   ]
  },
  {
   "cell_type": "code",
   "execution_count": 19,
   "metadata": {},
   "outputs": [
    {
     "name": "stdout",
     "output_type": "stream",
     "text": [
      "['data/howes2017/fpc.cpar.specie01.mode01', 'data/howes2017/fpc.cperp.specie01.mode01', 'data/howes2017/fpc.df1gyro.real.specie01.mode01', 'data/howes2017/fpc.df1gyro.imag.specie01.mode01', 'data/howes2017/fpc.cpar.specie02.mode01', 'data/howes2017/fpc.cperp.specie02.mode01', 'data/howes2017/fpc.df1gyro.real.specie02.mode01', 'data/howes2017/fpc.df1gyro.imag.specie02.mode01']\n"
     ]
    }
   ],
   "source": [
    "#Files produced by above command\n",
    "print(cdataflnms)"
   ]
  },
  {
   "cell_type": "code",
   "execution_count": 20,
   "metadata": {
    "scrolled": true
   },
   "outputs": [
    {
     "name": "stdout",
     "output_type": "stream",
     "text": [
      "Opening data/howes2017/fpc.cpar.specie01.mode01\n",
      "Calculated resonant interval (ion): (1.234373-0.044223784j)\n",
      "Opening data/howes2017/fpc.cperp.specie01.mode01\n",
      "Calculated resonant interval (ion): (1.234373-0.044223784j)\n",
      "Opening data/howes2017/fpc.df1gyro.real.specie01.mode01\n",
      "Calculated resonant interval (ion): (1.234373-0.044223784j)\n",
      "Opening data/howes2017/fpc.df1gyro.imag.specie01.mode01\n",
      "Calculated resonant interval (ion): (1.234373-0.044223784j)\n",
      "Opening data/howes2017/fpc.cpar.specie02.mode01\n",
      "Calculated resonant interval (elec): (0.02880779880269844-0.0010320947329259427j)\n",
      "Opening data/howes2017/fpc.cperp.specie02.mode01\n",
      "Calculated resonant interval (elec): (0.02880779880269844-0.0010320947329259427j)\n",
      "Opening data/howes2017/fpc.df1gyro.real.specie02.mode01\n",
      "Calculated resonant interval (elec): (0.02880779880269844-0.0010320947329259427j)\n",
      "Opening data/howes2017/fpc.df1gyro.imag.specie02.mode01\n",
      "Calculated resonant interval (elec): (0.02880779880269844-0.0010320947329259427j)\n"
     ]
    }
   ],
   "source": [
    "iondatacpar = lfpc.loadlinfpccepar(cdataflnms[0])\n",
    "iondatacperp = lfpc.loadlinfpcceperp(cdataflnms[1])\n",
    "iondatarfs1 = lfpc.loadlinfpcgyro_dist(cdataflnms[2],cdataflnms[3])\n",
    "elecdatacpar = lfpc.loadlinfpccepar(cdataflnms[4])\n",
    "elecdatacperp = lfpc.loadlinfpcceperp(cdataflnms[5])\n",
    "elecdatarfs1 = lfpc.loadlinfpcgyro_dist(cdataflnms[6],cdataflnms[7])"
   ]
  },
  {
   "cell_type": "code",
   "execution_count": 21,
   "metadata": {
    "scrolled": true
   },
   "outputs": [
    {
     "name": "stdout",
     "output_type": "stream",
     "text": [
      "mkdir figures/howes2017\n"
     ]
    },
    {
     "name": "stderr",
     "output_type": "stream",
     "text": [
      "mkdir: figures/howes2017: File exists\n"
     ]
    },
    {
     "data": {
      "text/plain": [
       "256"
      ]
     },
     "execution_count": 21,
     "metadata": {},
     "output_type": "execute_result"
    }
   ],
   "source": [
    "cmd = 'mkdir figures/'+filetag\n",
    "print(cmd)\n",
    "os.system(cmd)"
   ]
  },
  {
   "cell_type": "code",
   "execution_count": 23,
   "metadata": {
    "scrolled": false
   },
   "outputs": [
    {
     "name": "stdout",
     "output_type": "stream",
     "text": [
      "Plotting interval...\n",
      "plotting linear scale!\n",
      "Saving figure to figures folder!\n"
     ]
    }
   ],
   "source": [
    "importlib.reload(lp)\n",
    "\n",
    "lp.plotlinfpc_gyro(iondatacpar,filetag+'/'+filetag+'.png',plotresonant=True) #plotresonant attempts to calculate expected resonant velocity of landau damping and plots a vertical line there\n",
    "                                                                          #as $\\int_{-\\infty}^{+\\infty} C_E_{||} = j_{||}E_{||}$ it useful to consider this quantity"
   ]
  },
  {
   "cell_type": "code",
   "execution_count": 24,
   "metadata": {},
   "outputs": [
    {
     "name": "stdout",
     "output_type": "stream",
     "text": [
      "plotting linear scale!\n",
      "Saving figure to figures folder!\n"
     ]
    }
   ],
   "source": [
    "lp.plotlinfpc_gyro(iondatacperp,filetag+'/'+filetag+'cperp.png')"
   ]
  },
  {
   "cell_type": "code",
   "execution_count": 25,
   "metadata": {
    "scrolled": true
   },
   "outputs": [
    {
     "name": "stdout",
     "output_type": "stream",
     "text": [
      "plotting linear scale!\n",
      "Saving figure to figures folder!\n"
     ]
    }
   ],
   "source": [
    "lp.plotlinfpc_gyro(elecdatacpar,filetag+'/'+filetag+'elec.png')"
   ]
  },
  {
   "cell_type": "code",
   "execution_count": 26,
   "metadata": {},
   "outputs": [
    {
     "name": "stdout",
     "output_type": "stream",
     "text": [
      "plotting linear scale!\n",
      "Saving figure to figures folder!\n"
     ]
    }
   ],
   "source": [
    "lp.plotlinfpc_gyro(elecdatacperp,filetag+'/'+filetag+'eleccperp.png')"
   ]
  },
  {
   "cell_type": "code",
   "execution_count": 27,
   "metadata": {},
   "outputs": [
    {
     "name": "stdout",
     "output_type": "stream",
     "text": [
      "plotting linear scale!\n",
      "Saving figure to figures folder!\n",
      "plotting linear scale!\n",
      "Saving figure to figures folder!\n"
     ]
    }
   ],
   "source": [
    "lp.plotlinfpc_gyro_dist(iondatarfs1,filetag+'/'+filetag+'ionrfs1.png','re_f')\n",
    "lp.plotlinfpc_gyro_dist(iondatarfs1,filetag+'/'+filetag+'ionifs1.png','im_f')"
   ]
  },
  {
   "cell_type": "code",
   "execution_count": 28,
   "metadata": {},
   "outputs": [
    {
     "name": "stdout",
     "output_type": "stream",
     "text": [
      "plotting linear scale!\n",
      "Saving figure to figures folder!\n",
      "plotting linear scale!\n",
      "Saving figure to figures folder!\n"
     ]
    }
   ],
   "source": [
    "lp.plotlinfpc_gyro_dist(elecdatarfs1,filetag+'/'+filetag+'elecrfs1.png','re_f')\n",
    "lp.plotlinfpc_gyro_dist(elecdatarfs1,filetag+'/'+filetag+'elecifs1.png','im_f')"
   ]
  },
  {
   "cell_type": "markdown",
   "metadata": {},
   "source": [
    "## Predict FPC signature of selected root and fs1 in cartesian coordinates"
   ]
  },
  {
   "cell_type": "code",
   "execution_count": 35,
   "metadata": {},
   "outputs": [
    {
     "name": "stdout",
     "output_type": "stream",
     "text": [
      "OVERWRITING OPTION AND NUM GUESS AND USE_MAP; TODO CHECK THAT plume_input IS CORRECT INSTEAD...\n",
      "Forcing input file to use root as initial guess\n",
      "Rewriting file...\n",
      "mkdir data/howes2017\n",
      "./plume.e input/howes2017/fpc.in >> outlog\n"
     ]
    },
    {
     "name": "stderr",
     "output_type": "stream",
     "text": [
      "mkdir: data/howes2017: File exists\n"
     ]
    },
    {
     "name": "stdout",
     "output_type": "stream",
     "text": [
      "Loading files...\n",
      "Warning: assuming folder does not contain FPC data in cartesian coordinates for multiple predictions.\n",
      "Reading:  data/howes2017/fpc.cparcart.specie01.mode01\n",
      "Opening data/howes2017/fpc.cparcart.specie01.mode01\n",
      "Calculated resonant interval (ion): (1.234373-0.044223784j)\n",
      "Opening data/howes2017/fpc.cperp1.specie01.mode01\n",
      "Calculated resonant interval (ion): (1.234373-0.044223784j)\n",
      "Opening data/howes2017/fpc.cperp2.specie01.mode01\n",
      "Calculated resonant interval (ion): (1.234373-0.044223784j)\n",
      "Loading files...\n",
      "Warning: assuming folder does not contain FPC data in cartesian coordinates for multiple predictions.\n",
      "Reading:  data/howes2017/fpc.dfs.imag.specie01.mode01 data/howes2017/fpc.dfs.real.specie01.mode01\n",
      "Opening data/howes2017/fpc.dfs.real.specie01.mode01\n",
      "Calculated resonant interval (ion): (1.234373-0.044223784j)\n",
      "Opening data/howes2017/fpc.dfs.imag.specie01.mode01\n",
      "Calculated resonant interval (ion): (1.234373-0.044223784j)\n",
      "Loading files...\n",
      "Warning: assuming folder does not contain FPC data in cartesian coordinates for multiple predictions.\n",
      "Reading:  data/howes2017/fpc.cparcart.specie02.mode01\n",
      "Opening data/howes2017/fpc.cparcart.specie02.mode01\n",
      "Calculated resonant interval (elec): (0.02880779880269844-0.0010320947329259427j)\n",
      "Opening data/howes2017/fpc.cperp1.specie02.mode01\n",
      "Calculated resonant interval (elec): (0.02880779880269844-0.0010320947329259427j)\n",
      "Opening data/howes2017/fpc.cperp2.specie02.mode01\n",
      "Calculated resonant interval (elec): (0.02880779880269844-0.0010320947329259427j)\n",
      "Loading files...\n",
      "Warning: assuming folder does not contain FPC data in cartesian coordinates for multiple predictions.\n",
      "Reading:  data/howes2017/fpc.dfs.imag.specie02.mode01 data/howes2017/fpc.dfs.real.specie02.mode01\n",
      "Opening data/howes2017/fpc.dfs.real.specie02.mode01\n",
      "Calculated resonant interval (elec): (0.02880779880269844-0.0010320947329259427j)\n",
      "Opening data/howes2017/fpc.dfs.imag.specie02.mode01\n",
      "Calculated resonant interval (elec): (0.02880779880269844-0.0010320947329259427j)\n"
     ]
    }
   ],
   "source": [
    "vperpmin = .05\n",
    "vperpmax = 3 \n",
    "vparmin = -3\n",
    "vparmax = 3\n",
    "vxmin = -3\n",
    "vymin = -3\n",
    "vzmin = -3\n",
    "vxmax = 3\n",
    "vymax = 3\n",
    "vzmax = 3\n",
    "delv = .15\n",
    "plumeinput.set_fpc(delv=delv,vxmin=vxmin,vxmax=vxmax,vymin=vymin,vymax=vymax,vzmin=vzmin,vzmax=vzmax)\n",
    "\n",
    "\n",
    "inputflnm = inputfldr+'fpc'\n",
    "outputflnm = 'fpc'\n",
    "cdataflnms = lfpc.compute_fpc_from_root(plumeinput,roots[rootidx],inputflnm,outputflnm,cart=True)\n",
    "\n",
    "foldername = cdataflnms[0].split('/')\n",
    "foldername = foldername[0]+'/'+foldername[1]+'/'\n",
    "\n",
    "flnm = 'figures/'+filetag+'/'+filetag+'ionfpccart.png'\n",
    "lp.plot_9pan_cart(foldername,flnm=flnm,specnum='01',computeEner=True)\n",
    "flnm = 'figures/'+filetag+'/'+filetag+'ionfs1.png'\n",
    "lp.plot_fs1_re_im_cart(foldername,flnm=flnm,specnum='01')\n",
    "\n",
    "flnm = 'figures/'+filetag+'/'+filetag+'elecfpccart.png'\n",
    "lp.plot_9pan_cart(foldername,flnm=flnm,specnum='02',computeEner=True)\n",
    "flnm = 'figures/'+filetag+'/'+filetag+'elecfs1.png'\n",
    "lp.plot_fs1_re_im_cart(foldername,flnm=flnm,specnum='02')"
   ]
  },
  {
   "cell_type": "markdown",
   "metadata": {},
   "source": [
    "## Print outlog\n",
    "\n",
    "The wrapper outputs all statements from the program to the 'outlog' file. Note that output from new plume.e will be concatenated onto the end of the file. It is important that the user check this log for any warning or error messages!"
   ]
  },
  {
   "cell_type": "code",
   "execution_count": null,
   "metadata": {},
   "outputs": [],
   "source": [
    "#Let's check the output of all of our calculations to check for any warning messages!\n",
    "os.system('cat outlog')"
   ]
  },
  {
   "cell_type": "code",
   "execution_count": null,
   "metadata": {},
   "outputs": [],
   "source": []
  }
 ],
 "metadata": {
  "kernelspec": {
   "display_name": "Python 3 (ipykernel)",
   "language": "python",
   "name": "python3"
  },
  "language_info": {
   "codemirror_mode": {
    "name": "ipython",
    "version": 3
   },
   "file_extension": ".py",
   "mimetype": "text/x-python",
   "name": "python",
   "nbconvert_exporter": "python",
   "pygments_lexer": "ipython3",
   "version": "3.8.5"
  }
 },
 "nbformat": 4,
 "nbformat_minor": 4
}

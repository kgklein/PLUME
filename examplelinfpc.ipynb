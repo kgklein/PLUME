{
 "cells": [
  {
   "cell_type": "markdown",
   "metadata": {},
   "source": [
    "# Example predictions of field particle correlation signatures\n",
    "Here, we predict the signatures found in Howes 2017 (a kinetic alfven wave experiencing landau damping). \n",
    "\n",
    "Please, open a terminal, navigate to the install directory, make PLUME (run 'make all'), and run all the cells in this notebook to verify that everything is working correctly.\n",
    "\n",
    "This notebook and related libraries serve as wrappers that make and call input files for plume using (os.system('./plume.e *flnm*.in >> outlog') One can also use ./plume.e *flnm*.in to run plume.\n",
    "\n",
    "If things are not behaving as expected, please check the outlog, where all plume output is saved when using this notebook.\n",
    "\n",
    "*** Please check outlog for any warnings that PLUME might create and write to the outlog. These warnings *will not* be presented here in any way. Using this notebook, one may input parameters that allows the solver to run, but violates assumptions made when deriving the equations used by the solver ***\n",
    "\n",
    "Warning: these scripts have only been tested using two species"
   ]
  },
  {
   "cell_type": "markdown",
   "metadata": {},
   "source": [
    "## Load libraries, and enter parameters"
   ]
  },
  {
   "cell_type": "code",
   "execution_count": 2,
   "metadata": {},
   "outputs": [],
   "source": [
    "import linfpclib.linfpc as lfpc\n",
    "import linfpclib.linfpcplot as lp\n",
    "\n",
    "import os\n",
    "import numpy as np"
   ]
  },
  {
   "cell_type": "code",
   "execution_count": 2,
   "metadata": {},
   "outputs": [
    {
     "data": {
      "text/plain": [
       "<module 'linfpclib.linfpcplot' from '/Users/work/Documents/Research/LinKinTheory/LinFPCPaperAndData/PLUME/linfpclib/linfpcplot.py'>"
      ]
     },
     "execution_count": 2,
     "metadata": {},
     "output_type": "execute_result"
    }
   ],
   "source": [
    "#if a change is made to the above libraries, one can either restart the notebook, \n",
    "#  or call these functions to load changes in library\n",
    "import importlib\n",
    "importlib.reload(lfpc)\n",
    "importlib.reload(lp)"
   ]
  },
  {
   "cell_type": "code",
   "execution_count": 3,
   "metadata": {},
   "outputs": [],
   "source": [
    "filetag = 'howes2017' #this will be used to name all output files and folders\n",
    "plumeinput = lfpc.plume_input(filetag)"
   ]
  },
  {
   "cell_type": "code",
   "execution_count": 4,
   "metadata": {},
   "outputs": [],
   "source": [
    "betap=1\n",
    "kperp=1.3\n",
    "kpar=.05 #not specified in paper but when kpar << 1, exact number is not needed as dynamics don't change much in this regime\n",
    "vtp=1.0E-4\n",
    "nspec=2\n",
    "nscan=1\n",
    "option=1\n",
    "nroot_max=20\n",
    "use_map=True\n",
    "writeOut=True\n",
    "\n",
    "plumeinput.set_params(betap,kperp,kpar,vtp,nspec,nscan,option,\\\n",
    "                    nroot_max,use_map,writeOut)"
   ]
  },
  {
   "cell_type": "code",
   "execution_count": 5,
   "metadata": {},
   "outputs": [
    {
     "name": "stdout",
     "output_type": "stream",
     "text": [
      "No species found, creating first species...\n"
     ]
    }
   ],
   "source": [
    "#make ions\n",
    "tauS=1.0\n",
    "muS=1.0\n",
    "alphS=1.0\n",
    "Qs=1.0\n",
    "Ds=1.0\n",
    "vvS=0.\n",
    "plumeinput.make_species(tauS, muS, alphS, Qs, Ds, vvS, spec_n = 1)"
   ]
  },
  {
   "cell_type": "code",
   "execution_count": 6,
   "metadata": {},
   "outputs": [
    {
     "name": "stdout",
     "output_type": "stream",
     "text": [
      "Appending species to list. Total species is now  2\n"
     ]
    }
   ],
   "source": [
    "#make elecs\n",
    "tauS=1\n",
    "muS=1836\n",
    "alphS=1.0\n",
    "Qs=-1.0\n",
    "Ds=1.0\n",
    "vvS=0.\n",
    "plumeinput.make_species(tauS, muS, alphS, Qs, Ds, vvS, spec_n = 2)"
   ]
  },
  {
   "cell_type": "code",
   "execution_count": 7,
   "metadata": {},
   "outputs": [],
   "source": [
    "#given the fixed above parameters, PLUME solves the dispersion relation for values over the range of omega\n",
    "#and gamma given below. It initializes a grid (either log spaced or evenly spaced) and does it's best to find \n",
    "#all roots in this range. For each grid point, gradient descent is used to try and find a nearby solution.\n",
    "#Sometimes this results in no found root. Sometimes roots are found outside the sweep range \n",
    "#(both close to the range, and very far from it)\n",
    "loggridw=False\n",
    "omi=-1.0E-02\n",
    "omf=1.0E-0\n",
    "gami=-2.0E-01\n",
    "gamf=2.0E-01\n",
    "positive_roots=True\n",
    "plumeinput.set_maps(loggridw,omi,omf,gami,gamf,positive_roots)"
   ]
  },
  {
   "cell_type": "code",
   "execution_count": 8,
   "metadata": {},
   "outputs": [
    {
     "name": "stdout",
     "output_type": "stream",
     "text": [
      "mkdir input/howes2017/\n"
     ]
    },
    {
     "name": "stderr",
     "output_type": "stream",
     "text": [
      "mkdir: input/howes2017/: File exists\n"
     ]
    },
    {
     "data": {
      "text/plain": [
       "256"
      ]
     },
     "execution_count": 8,
     "metadata": {},
     "output_type": "execute_result"
    }
   ],
   "source": [
    "inputfldr= 'input/'+filetag+'/' #folder where all generated input files will be placed\n",
    "cmd = 'mkdir '+inputfldr\n",
    "print(cmd)\n",
    "os.system(cmd) #256 exit code means folder already exits, 0 means it sucessfully made the folder\n",
    "\n"
   ]
  },
  {
   "cell_type": "markdown",
   "metadata": {},
   "source": [
    "## Find roots"
   ]
  },
  {
   "cell_type": "code",
   "execution_count": 9,
   "metadata": {},
   "outputs": [
    {
     "name": "stdout",
     "output_type": "stream",
     "text": [
      "OVERWRITING OPTION; TODO CHECK THAT plume_input IS CORRECT INSTEAD...\n",
      "Rewriting file...\n",
      "mkdir data/howes2017\n",
      "./plume.e input/howes2017/roots.in >> outlog\n"
     ]
    },
    {
     "name": "stderr",
     "output_type": "stream",
     "text": [
      "mkdir: data/howes2017: File exists\n"
     ]
    },
    {
     "name": "stdout",
     "output_type": "stream",
     "text": [
      "Reading roots from  data/howes2017/dispersion_howes2017.roots\n"
     ]
    }
   ],
   "source": [
    "roots = lfpc.compute_roots(plumeinput,inputfldr+'roots',filetag)"
   ]
  },
  {
   "cell_type": "code",
   "execution_count": 10,
   "metadata": {
    "scrolled": false
   },
   "outputs": [
    {
     "data": {
      "image/png": "[encoded data removed]",
      "text/plain": [
       "<Figure size 640x480 with 1 Axes>"
      ]
     },
     "metadata": {},
     "output_type": "display_data"
    }
   ],
   "source": [
    "import matplotlib.pyplot as plt\n",
    "oms = [rt.real for rt in roots]\n",
    "gams = [rt.imag for rt in roots]\n",
    "lbls = [_i for _i in range(0,len(oms))]\n",
    "\n",
    "plt.figure()\n",
    "plt.scatter(oms,gams)\n",
    "plt.xlim(0,.2)\n",
    "plt.ylim(-.2,0)\n",
    "for _i, txt in enumerate(lbls):\n",
    "    plt.gca().annotate(txt, (oms[_i], gams[_i]))\n",
    "plt.gca().set_aspect('equal')\n",
    "plt.grid()\n",
    "plt.xlabel(r\"$\\omega$\") #normalized as in PLUME \n",
    "plt.ylabel(r\"$\\gamma / \\omega$\")\n",
    "plt.show()"
   ]
  },
  {
   "cell_type": "markdown",
   "metadata": {},
   "source": [
    "## Select root to compute dispersion relation as a function of selected variable"
   ]
  },
  {
   "cell_type": "code",
   "execution_count": 11,
   "metadata": {},
   "outputs": [
    {
     "data": {
      "text/plain": [
       "(0.061719-0.0022112j)"
      ]
     },
     "execution_count": 11,
     "metadata": {},
     "output_type": "execute_result"
    }
   ],
   "source": [
    "rootidx = 2\n",
    "roots[rootidx] #later we show that this is the alfven root"
   ]
  },
  {
   "cell_type": "code",
   "execution_count": 12,
   "metadata": {},
   "outputs": [
    {
     "name": "stdout",
     "output_type": "stream",
     "text": [
      "OVERWRITING OPTION AND NUM GUESS AND USE_MAP; TODO CHECK THAT plume_input IS CORRECT INSTEAD...\n",
      "Rewriting file...\n",
      "./plume.e input/howes2017/sweepsweep1.in >> outlog\n",
      "Rewriting file...\n",
      "./plume.e input/howes2017/sweepsweep2.in >> outlog\n",
      "Loading  data/howes2017/sweepsweep1_kperp_1300_100000.mode1 ...\n",
      "WARNING: assuming 2 species...\n",
      " TODO: write load_plume_sweep_nspec...\n",
      "WARNING: assuming low_n is true (rather than new_low_n) (pass use_ps_split_new=True to change this)\n",
      "If unsure, please check vars.f90 (change requires recompile)\n",
      "If both are true, new_low_n is used\n",
      "Loading  data/howes2017/sweepsweep2_kperp_1300_100.mode1 ...\n",
      "WARNING: assuming 2 species...\n",
      " TODO: write load_plume_sweep_nspec...\n",
      "WARNING: assuming low_n is true (rather than new_low_n) (pass use_ps_split_new=True to change this)\n",
      "If unsure, please check vars.f90 (change requires recompile)\n",
      "If both are true, new_low_n is used\n",
      "Combining data and returning as 1 sweep...\n"
     ]
    }
   ],
   "source": [
    "importlib.reload(lfpc)\n",
    "sweepvarkey = 'kperp'\n",
    "sweepmin = .1\n",
    "sweepmax = 100\n",
    "root = roots[rootidx]\n",
    "inputflnm = inputfldr+'sweep'\n",
    "outputname = 'sweep'\n",
    "sweep = lfpc.make_sweeps_that_branch_from_params(plumeinput,sweepvarkey,sweepmin,sweepmax,root,inputflnm,outputname,outlog='outlog',nsamps=50)"
   ]
  },
  {
   "cell_type": "code",
   "execution_count": 13,
   "metadata": {},
   "outputs": [
    {
     "data": {
      "image/png": "[encoded data removed]",
      "text/plain": [
       "<Figure size 640x480 with 1 Axes>"
      ]
     },
     "metadata": {},
     "output_type": "display_data"
    }
   ],
   "source": [
    "#'verify' that we have the alfven branch solution \n",
    "#(often more analysis will be needed, but sometimes one can use intuition to select the correct branch)\n",
    "#(for example, here we know it is the alfven branch solution as the wave goes dispersive at kperprhoi~1)\n",
    "#(an b/c it evenutally 'hits a resonance and flattens out')\n",
    "#(later this is verified by getting an accurate FPC prediction )\n",
    "plt.figure()\n",
    "xplot = sweep['kperp']\n",
    "yplot = sweep['w']\n",
    "plt.loglog(xplot,yplot)\n",
    "plt.scatter(plumeinput.params['kperp'],roots[rootidx].real)\n",
    "plt.xlabel(r\"$k_\\perp \\rho_i$\")\n",
    "plt.ylabel(r\"$\\omega / \\Omega_i$\")\n",
    "plt.ylim(0.01,1.1)\n",
    "plt.grid()\n",
    "plt.show()"
   ]
  },
  {
   "cell_type": "markdown",
   "metadata": {},
   "source": [
    "## Predict FPC signature of selected root"
   ]
  },
  {
   "cell_type": "code",
   "execution_count": 14,
   "metadata": {},
   "outputs": [],
   "source": [
    "vperpmin = .05\n",
    "vperpmax = 3\n",
    "vparmin = -3\n",
    "vparmax = 3\n",
    "delv = .1\n",
    "plumeinput.set_fpc(vperpmin,vperpmax,vparmin,vparmax,delv)"
   ]
  },
  {
   "cell_type": "code",
   "execution_count": 15,
   "metadata": {},
   "outputs": [],
   "source": [
    "scan_type=0\n",
    "scan_style=0\n",
    "swi=0\n",
    "swf=0\n",
    "swlog=True\n",
    "ns=0\n",
    "nres=1\n",
    "heating=True #While no sweep is performed here, we need this bools\n",
    "eigen=True\n",
    "plumeinput.make_scan(scan_type,scan_style,swi,swf,swlog,ns,nres,heating,eigen)"
   ]
  },
  {
   "cell_type": "code",
   "execution_count": 16,
   "metadata": {},
   "outputs": [
    {
     "name": "stdout",
     "output_type": "stream",
     "text": [
      "OVERWRITING OPTION AND NUM GUESS AND USE_MAP; TODO CHECK THAT plume_input IS CORRECT INSTEAD...\n",
      "Forcing input file to use root as initial guess\n",
      "Rewriting file...\n",
      "mkdir data/howes2017\n",
      "./plume.e input/howes2017/fpc.in >> outlog\n"
     ]
    },
    {
     "name": "stderr",
     "output_type": "stream",
     "text": [
      "mkdir: data/howes2017: File exists\n"
     ]
    }
   ],
   "source": [
    "importlib.reload(lfpc)\n",
    "\n",
    "inputflnm = inputfldr+'fpc'\n",
    "outputflnm = 'fpc'\n",
    "cdataflnms = lfpc.compute_fpc_from_root(plumeinput,roots[rootidx],inputflnm,outputflnm)"
   ]
  },
  {
   "cell_type": "code",
   "execution_count": 17,
   "metadata": {
    "scrolled": true
   },
   "outputs": [
    {
     "name": "stdout",
     "output_type": "stream",
     "text": [
      "Opening data/howes2017/fpc.cpar.specie01.mode01\n",
      "Calculated resonant interval (ion): (1.234373-0.044223784j)\n",
      "Opening data/howes2017/fpc.cperp.specie01.mode01\n",
      "Calculated resonant interval (ion): (1.234373-0.044223784j)\n",
      "Opening data/howes2017/fpc.cpar.specie02.mode01\n",
      "Calculated resonant interval (elec): (0.02880779880269844-0.0010320947329259427j)\n",
      "Opening data/howes2017/fpc.cperp.specie02.mode01\n",
      "Calculated resonant interval (elec): (0.02880779880269844-0.0010320947329259427j)\n"
     ]
    }
   ],
   "source": [
    "iondatacpar = lfpc.loadlinfpccepar(cdataflnms[0])\n",
    "iondatacperp = lfpc.loadlinfpcceperp(cdataflnms[1])\n",
    "elecdatacpar = lfpc.loadlinfpccepar(cdataflnms[4])\n",
    "elecdatacperp = lfpc.loadlinfpcceperp(cdataflnms[5])"
   ]
  },
  {
   "cell_type": "code",
   "execution_count": 18,
   "metadata": {
    "scrolled": true
   },
   "outputs": [
    {
     "name": "stdout",
     "output_type": "stream",
     "text": [
      "mkdir figures/howes2017\n"
     ]
    },
    {
     "name": "stderr",
     "output_type": "stream",
     "text": [
      "mkdir: figures/howes2017: File exists\n"
     ]
    },
    {
     "data": {
      "text/plain": [
       "256"
      ]
     },
     "execution_count": 18,
     "metadata": {},
     "output_type": "execute_result"
    }
   ],
   "source": [
    "cmd = 'mkdir figures/'+filetag\n",
    "print(cmd)\n",
    "os.system(cmd)"
   ]
  },
  {
   "cell_type": "code",
   "execution_count": 19,
   "metadata": {
    "scrolled": false
   },
   "outputs": [
    {
     "name": "stdout",
     "output_type": "stream",
     "text": [
      "Plotting interval...\n",
      "False\n",
      "plotting linear scale!\n",
      "Saving figure to figures folder!\n"
     ]
    }
   ],
   "source": [
    "importlib.reload(lp)\n",
    "\n",
    "lp.plotlinfpcv2(iondatacpar,filetag+'/'+filetag+'.png',plotresonant=True) #plotresonant attempts to calculate expected resonant velocity of landau damping and plots a vertical line there\n",
    "                                                                          #as $\\int_{-\\infty}^{+\\infty} C_E_{||} = j_{||}E_{||}$ it useful to consider this quantity"
   ]
  },
  {
   "cell_type": "code",
   "execution_count": 20,
   "metadata": {},
   "outputs": [
    {
     "name": "stdout",
     "output_type": "stream",
     "text": [
      "False\n",
      "plotting linear scale!\n",
      "Saving figure to figures folder!\n"
     ]
    }
   ],
   "source": [
    "lp.plotlinfpcv2(iondatacperp,filetag+'/'+filetag+'cperp.png')"
   ]
  },
  {
   "cell_type": "code",
   "execution_count": 21,
   "metadata": {},
   "outputs": [
    {
     "name": "stdout",
     "output_type": "stream",
     "text": [
      "False\n",
      "plotting linear scale!\n",
      "Saving figure to figures folder!\n"
     ]
    }
   ],
   "source": [
    "lp.plotlinfpcv2(elecdatacpar,filetag+'/'+filetag+'elec.png')"
   ]
  },
  {
   "cell_type": "code",
   "execution_count": 22,
   "metadata": {},
   "outputs": [
    {
     "name": "stdout",
     "output_type": "stream",
     "text": [
      "False\n",
      "plotting linear scale!\n",
      "Saving figure to figures folder!\n"
     ]
    }
   ],
   "source": [
    "lp.plotlinfpcv2(elecdatacperp,filetag+'/'+filetag+'eleccperp.png')"
   ]
  },
  {
   "cell_type": "markdown",
   "metadata": {},
   "source": [
    "## Predict damping contribution by mechanisms "
   ]
  },
  {
   "cell_type": "code",
   "execution_count": 23,
   "metadata": {},
   "outputs": [
    {
     "data": {
      "image/png": "[encoded data removed]",
      "text/plain": [
       "<Figure size 640x480 with 1 Axes>"
      ]
     },
     "metadata": {},
     "output_type": "display_data"
    }
   ],
   "source": [
    "#plot estimated contributes due to landau damping, transit time damping, and cyclotron damping (n0 is 'total')\n",
    "import numpy as np\n",
    "plt.figure()\n",
    "plt.plot(sweep['kperp'],sweep['ps1'],color='red')\n",
    "# plt.plot(sweep['kperp'],sweep['ps2'],color='blue')\n",
    "\n",
    "# plt.plot(sweep['kperp'],sweep['p1n0']+sweep['p1ld']+sweep['p1ttd']+sweep['p1cd'])\n",
    "\n",
    "plt.loglog(sweep['kperp'],sweep['p1n0'],color='red',label='ion n0',ls='-')\n",
    "plt.loglog(sweep['kperp'],sweep['p2n0'],color='blue',label='elec n0',ls='-')\n",
    "plt.loglog(sweep['kperp'],sweep['p1ld'],color='red',label='ion ld',ls=':')\n",
    "plt.loglog(sweep['kperp'],sweep['p2ld'],color='blue',label='elec ld',ls=':')\n",
    "plt.loglog(sweep['kperp'],sweep['p1ttd'],color='red',label='ion ttd',ls='-.')\n",
    "plt.loglog(sweep['kperp'],sweep['p2ttd'],color='blue',label='elec ttd',ls='-.')\n",
    "plt.loglog(sweep['kperp'],sweep['p1cd'],color='red',label='ion cd',ls='--')\n",
    "plt.loglog(sweep['kperp'],sweep['p2cd'],color='blue',label='elec cd',ls='--')\n",
    "\n",
    "plt.xlabel(r\"$k_\\perp \\rho_i$\")\n",
    "plt.ylabel(r\"$\\gamma_{mech,i}/\\omega$\")\n",
    "plt.ylim(.0001,1)\n",
    "plt.legend()\n",
    "plt.grid()\n",
    "plt.show()"
   ]
  },
  {
   "cell_type": "markdown",
   "metadata": {},
   "source": [
    "## Double sweep over kperp and kpar"
   ]
  },
  {
   "cell_type": "code",
   "execution_count": 24,
   "metadata": {
    "scrolled": true
   },
   "outputs": [],
   "source": [
    "importlib.reload(lfpc)\n",
    "importlib.reload(lp)\n",
    "import copy\n",
    "tempparams = copy.deepcopy(plumeinput.params)\n",
    "\n",
    "doublesweep = {}\n",
    "nsamps = 50\n",
    "for _key in sweep.keys(): \n",
    "    doublesweep[_key] = np.zeros((len(sweep['kperp']),2*nsamps+2)) #2*nsamps+1 as 'make_sweeps_that_branch_from_params' returns 2*nsamps+2 samples\n",
    "\n",
    "_kperpidx = 0\n",
    "for _kperpval in sweep['kperp']:\n",
    "    sweepvarkey = 'kpar'\n",
    "    sweepmin = np.min(sweep['kperp'])\n",
    "    sweepmax = np.max(sweep['kperp'])\n",
    "    roottemp = sweep['w'][_kperpidx]\n",
    "    plumeinput.params['kperp']= np.round(_kperpval,3)\n",
    "    inputflnm = inputfldr+'sweeptemp'\n",
    "    outputname = 'sweeptemp'\n",
    "    sweeptemp = lfpc.make_sweeps_that_branch_from_params(plumeinput,sweepvarkey,sweepmin,sweepmax,roottemp,inputflnm,outputname,outlog='outlog',nsamps=nsamps,verbose=False)\n",
    "    for _key in sweep.keys():\n",
    "        doublesweep[_key][_kperpidx,:] = sweeptemp[_key][:]\n",
    "    _kperpidx += 1 \n",
    "    \n",
    "for _key in sweep.keys():\n",
    "    doublesweep[_key] = np.asarray(doublesweep[_key])\n",
    "    \n",
    "plumeinput.params = tempparams"
   ]
  },
  {
   "cell_type": "code",
   "execution_count": 25,
   "metadata": {},
   "outputs": [
    {
     "name": "stderr",
     "output_type": "stream",
     "text": [
      "/var/folders/kh/bvrytszs4gdg3r5ctz6_yqf40000gp/T/ipykernel_26915/1615542166.py:10: UserWarning: The input coordinates to pcolormesh are interpreted as cell centers, but are not monotonically increasing or decreasing. This may lead to incorrectly calculated cell edges, in which case, please supply explicit cell edges to pcolormesh.\n",
      "  im = plt.pcolormesh(Xplot,Yplot,Zplot,norm=colors.SymLogNorm(linthresh=1, linscale=1, vmin=Zplot.min(), vmax=Zplot.max()),cmap='coolwarm')\n"
     ]
    },
    {
     "data": {
      "image/png": "[encoded data removed]",
      "text/plain": [
       "<Figure size 600x600 with 2 Axes>"
      ]
     },
     "metadata": {},
     "output_type": "display_data"
    }
   ],
   "source": [
    "import matplotlib.colors as colors\n",
    "\n",
    "Xplot = doublesweep['kperp']\n",
    "Yplot = doublesweep['kpar']\n",
    "Zplot = doublesweep['g']\n",
    "\n",
    "plt.figure(figsize=(6,6))\n",
    "plt.xscale(\"log\")\n",
    "plt.yscale(\"log\")\n",
    "im = plt.pcolormesh(Xplot,Yplot,Zplot,norm=colors.SymLogNorm(linthresh=1, linscale=1, vmin=Zplot.min(), vmax=Zplot.max()),cmap='coolwarm')\n",
    "clrbar = plt.colorbar(im, ax=plt.gca())#,format='%.1e')\n",
    "plt.xlabel(r\"$k_\\perp$\")\n",
    "plt.ylabel(r\"k_{||}\")\n",
    "plt.show()"
   ]
  },
  {
   "cell_type": "markdown",
   "metadata": {},
   "source": [
    "# Print outlog\n",
    "\n",
    "The wrapper outputs all statements from the program to the 'outlog' file. Note that output from new plume.e will be concatenated onto the end of the file. It is important that the user check this log for any warning or error messages!"
   ]
  },
  {
   "cell_type": "code",
   "execution_count": 3,
   "metadata": {},
   "outputs": [
    {
     "name": "stdout",
     "output_type": "stream",
     "text": [
      "-=-=-=-=-=-=-=-=-=-\n",
      "Root Search:\n",
      "-=-=-=-=-=-=-=-=-=-\n",
      "Global Plasma Parameters:\n",
      "k_perp rho_p   =   0.100000E-01\n",
      "k_par  rho_p   =   0.400000    \n",
      "Beta_p         =    1.00000    \n",
      "vtp/c          =   0.100000    \n",
      "-=-=-=-=-=-=-=-=-=-\n",
      "Parameters for Species :  1\n",
      "T_||p/T_||s =       1.00000    \n",
      "m_p/m_s =           1.00000    \n",
      "T_perp/T_par|s =    1.00000    \n",
      "q_p/q_s =           1.00000    \n",
      "n_s/n_p =           1.00000    \n",
      "v_drift s/c =       0.00000    \n",
      "-=-=-=-=-=-=-=-=-=-\n",
      "Parameters for Species :  2\n",
      "T_||p/T_||s =       1.00000    \n",
      "m_p/m_s =           100.000    \n",
      "T_perp/T_par|s =    1.00000    \n",
      "q_p/q_s =          -1.00000    \n",
      "n_s/n_p =           1.00000    \n",
      "v_drift s/c =       0.00000    \n",
      "-=-=-=-=-=-=-=-=-=-\n",
      "Searching over:\n",
      "om  \\in [-1.000E-02, 1.000E+00]\n",
      "gam \\in [-2.000E-01, 2.000E-01]\n",
      "-=-=-=-=-=-=-=-=-=-\n",
      " 6  possible local minima found\n",
      "ir =    0    ii =  128\n",
      "   -1.0000E-02    2.0000E-01\n",
      "ir =  128    ii =  128\n",
      "    1.0000E+00    2.0000E-01\n",
      "ir =   65    ii =   64\n",
      "    5.0289E-01    0.0000E+00\n",
      "ir = "
     ]
    },
    {
     "data": {
      "text/plain": [
       "0"
      ]
     },
     "execution_count": 3,
     "metadata": {},
     "output_type": "execute_result"
    },
    {
     "name": "stdout",
     "output_type": "stream",
     "text": [
      "  32    ii =   57\n",
      "    2.4250E-01   -2.1875E-02\n",
      "ir =    0    ii =    0\n",
      "   -1.0000E-02   -2.0000E-01\n",
      "ir =   77    ii =    0\n",
      "    5.9758E-01   -2.0000E-01\n",
      "Refining roots\n",
      "Dispersion Solutions \n",
      "  1    6.6049E+05   -8.1612E+05\n",
      "  2    1.6209E+02    5.7547E-08\n",
      "  3    5.0248E-01   -9.4091E-05\n",
      "  4    2.4340E-01   -2.1884E-02\n",
      "  5   -5.0248E-01   -9.4091E-05\n",
      "  6    5.9504E-01   -2.8532E-01\n",
      "  7    0.0000E+00    0.0000E+00\n",
      "  8    0.0000E+00    0.0000E+00\n",
      "  9    0.0000E+00    0.0000E+00\n",
      " 10    0.0000E+00    0.0000E+00\n",
      " 11    0.0000E+00    0.0000E+00\n",
      " 12    0.0000E+00    0.0000E+00\n",
      " 13    0.0000E+00    0.0000E+00\n",
      " 14    0.0000E+00    0.0000E+00\n",
      " 15    0.0000E+00    0.0000E+00\n",
      " 16    0.0000E+00    0.0000E+00\n",
      " 17    0.0000E+00    0.0000E+00\n",
      " 18    0.0000E+00    0.0000E+00\n",
      " 19    0.0000E+00    0.0000E+00\n",
      " 20    0.0000E+00    0.0000E+00\n",
      " Predicting FPC (cart coords)...\n",
      "Input for Root 1:   2.4340E-01 -2.1884E-02\n",
      "Dispersion Solutions \n",
      "  1    2.4340E-01   -2.1884E-02\n",
      " Assuming data folder already exists...\n",
      " assuming subfolder TenBargeICD already exists\n",
      " Calculating fpc for species            1\n",
      " Writing omega/kpar V_a normalization to file...\n",
      " Calculating fpc for species            2\n",
      " Writing omega/kpar V_a normalization to file...\n",
      "nir=     -2.97E-02    4.79E-02     -0.620\n",
      "nii=     -1.52E-02   -5.31E-02      0.287\n",
      "ner=     -2.97E-02   -2.67E-01      0.111\n",
      "nei=     -1.53E-02   -1.06E-01      0.144\n",
      "\n",
      "uxir=     5.98E-02   -1.89E-01        -3.17E-01         1.65E+00    1.60E+00\n",
      "uxii=    -1.65E+00   -1.59E+00         1.04E+00           -0.488      -0.538\n",
      "uyir=    -1.65E+00   -1.59E+00         1.04E+00         1.65E+00    1.60E+00\n",
      "uyii=    -5.94E-02    1.90E-01        -3.13E-01           -0.989       0.962\n",
      "uzir=    -2.04E-02    3.10E-02        -6.59E-01         3.93E-02    3.14E-02\n",
      "uzii=     3.35E-02    4.83E-03         6.94E+00            0.674       0.049\n",
      "\n",
      "uxer=     1.08E-03    1.08E-03         1.00E+00         9.97E-01    9.97E-01\n",
      "uxei=    -9.97E-01   -9.97E-01         1.00E+00           -0.500      -0.500\n",
      "uyei=    -4.52E-05   -8.64E-05         5.24E-01           -1.000      -1.000\n",
      "uzer=    -1.89E-02   -1.69E-02         1.12E+00         2.56E-02    2.61E-02\n",
      "uzei=     1.72E-02    1.99E-02         8.65E-01            0.765       0.724\n",
      "-=-=-=-=-=-=-=-=-=-\n",
      "Root Search:\n",
      "-=-=-=-=-=-=-=-=-=-\n",
      "Global Plasma Parameters:\n",
      "k_perp rho_p   =  -0.100000E-04\n",
      "k_par  rho_p   =  -0.541996    \n",
      "Beta_p         =   0.200000    \n",
      "vtp/c          =   0.100000E-03\n",
      "-=-=-=-=-=-=-=-=-=-\n",
      "Parameters for Species :  1\n",
      "T_||p/T_||s =       1.00000    \n",
      "m_p/m_s =           1.00000    \n",
      "T_perp/T_par|s =    1.00000    \n",
      "q_p/q_s =           1.00000    \n",
      "n_s/n_p =           1.00000    \n",
      "v_drift s/c =       0.00000    \n",
      "-=-=-=-=-=-=-=-=-=-\n",
      "Parameters for Species :  2\n",
      "T_||p/T_||s =       1.00000    \n",
      "m_p/m_s =           1836.00    \n",
      "T_perp/T_par|s =    1.00000    \n",
      "q_p/q_s =          -1.00000    \n",
      "n_s/n_p =          0.500000    \n",
      "v_drift s/c =       135.499    \n",
      "-=-=-=-=-=-=-=-=-=-\n",
      "Parameters for Species :  3\n",
      "T_||p/T_||s =       1.00000    \n",
      "m_p/m_s =           1836.00    \n",
      "T_perp/T_par|s =    1.00000    \n",
      "q_p/q_s =          -1.00000    \n",
      "n_s/n_p =          0.500000    \n",
      "v_drift s/c =      -135.499    \n",
      "-=-=-=-=-=-=-=-=-=-\n",
      "Searching over:\n",
      "om  \\in [-1.000E-08, 1.000E-08]\n",
      "gam \\in [ 1.000E+02, 0.000E+00]\n",
      "-=-=-=-=-=-=-=-=-=-\n",
      "82  possible local minima found\n",
      "ir =    1    ii =  123\n",
      "   -9.8438E-09    3.9062E+00\n",
      "ir =    4    ii =  123\n",
      "   -9.3750E-09    3.9062E+00\n",
      "ir =    6    ii =  123\n",
      "   -9.0625E-09    3.9062E+00\n",
      "ir =   10    ii =  123\n",
      "   -8.4375E-09    3.9062E+00\n",
      "ir =   15    ii =  123\n",
      "   -7.6562E-09    3.9062E+00\n",
      "ir =   19    ii =  123\n",
      "   -7.0313E-09    3.9062E+00\n",
      "ir =   22    ii =  123\n",
      "   -6.5625E-09    3.9062E+00\n",
      "ir =   25    ii =  123\n",
      "   -6.0938E-09    3.9062E+00\n",
      "ir =   29    ii =  123\n",
      "   -5.4687E-09    3.9062E+00\n",
      "ir =   31    ii =  123\n",
      "   -5.1563E-09    3.9062E+00\n",
      "ir =   33    ii =  123\n",
      "   -4.8437E-09    3.9062E+00\n",
      "ir =   36    ii =  123\n",
      "   -4.3750E-09    3.9062E+00\n",
      "ir =   40    ii =  123\n",
      "   -3.7500E-09    3.9062E+00\n",
      "ir =   44    ii =  123\n",
      "   -3.1250E-09    3.9062E+00\n",
      "ir =   47    ii =  123\n",
      "   -2.6563E-09    3.9062E+00\n",
      "ir =   50    ii =  123\n",
      "   -2.1875E-09    3.9062E+00\n",
      "ir =   53    ii =  123\n",
      "   -1.7188E-09    3.9062E+00\n",
      "ir =   61    ii =  123\n",
      "   -4.6875E-10    3.9062E+00\n",
      "ir =   64    ii =  123\n",
      "    0.0000E+00    3.9062E+00\n",
      "ir =   67    ii =  123\n",
      "    4.6875E-10    3.9062E+00\n",
      "ir =   75    ii =  123\n",
      "    1.7188E-09    3.9062E+00\n",
      "ir =   78    ii =  123\n",
      "    2.1875E-09    3.9062E+00\n",
      "ir =   81    ii =  123\n",
      "    2.6562E-09    3.9062E+00\n",
      "ir =   84    ii =  123\n",
      "    3.1250E-09    3.9062E+00\n",
      "ir =   88    ii =  123\n",
      "    3.7500E-09    3.9062E+00\n",
      "ir =   92    ii =  123\n",
      "    4.3750E-09    3.9062E+00\n",
      "ir =   95    ii =  123\n",
      "    4.8437E-09    3.9062E+00\n",
      "ir =   97    ii =  123\n",
      "    5.1563E-09    3.9062E+00\n",
      "ir =   99    ii =  123\n",
      "    5.4688E-09    3.9062E+00\n",
      "ir =  103    ii =  123\n",
      "    6.0938E-09    3.9062E+00\n",
      "ir =  106    ii =  123\n",
      "    6.5625E-09    3.9062E+00\n",
      "ir =  109    ii =  123\n",
      "    7.0312E-09    3.9062E+00\n",
      "ir =  113    ii =  123\n",
      "    7.6562E-09    3.9062E+00\n",
      "ir =  118    ii =  123\n",
      "    8.4375E-09    3.9062E+00\n",
      "ir =  122    ii =  123\n",
      "    9.0625E-09    3.9062E+00\n",
      "ir =  124    ii =  123\n",
      "    9.3750E-09    3.9062E+00\n",
      "ir =  127    ii =  123\n",
      "    9.8438E-09    3.9062E+00\n",
      "ir =    0    ii =    0\n",
      "   -1.0000E-08    1.0000E+02\n",
      "ir =    2    ii =    0\n",
      "   -9.6875E-09    1.0000E+02\n",
      "ir =    8    ii =    0\n",
      "   -8.7500E-09    1.0000E+02\n",
      "ir =   10    ii =    0\n",
      "   -8.4375E-09    1.0000E+02\n",
      "ir =   12    ii =    0\n",
      "   -8.1250E-09    1.0000E+02\n",
      "ir =   15    ii =    0\n",
      "   -7.6562E-09    1.0000E+02\n",
      "ir =   20    ii =    0\n",
      "   -6.8750E-09    1.0000E+02\n",
      "ir =   23    ii =    0\n",
      "   -6.4062E-09    1.0000E+02\n",
      "ir =   25    ii =    0\n",
      "   -6.0938E-09    1.0000E+02\n",
      "ir =   28    ii =    0\n",
      "   -5.6250E-09    1.0000E+02\n",
      "ir =   31    ii =    0\n",
      "   -5.1563E-09    1.0000E+02\n",
      "ir =   33    ii =    0\n",
      "   -4.8437E-09    1.0000E+02\n",
      "ir =   37    ii =    0\n",
      "   -4.2188E-09    1.0000E+02\n",
      "ir =   39    ii =    0\n",
      "   -3.9062E-09    1.0000E+02\n",
      "ir =   43    ii =    0\n",
      "   -3.2813E-09    1.0000E+02\n",
      "ir =   46    ii =    0\n",
      "   -2.8125E-09    1.0000E+02\n",
      "ir =   48    ii =    0\n",
      "   -2.5000E-09    1.0000E+02\n",
      "ir =   51    ii =    0\n",
      "   -2.0313E-09    1.0000E+02\n",
      "ir =   54    ii =    0\n",
      "   -1.5625E-09    1.0000E+02\n",
      "ir =   56    ii =    0\n",
      "   -1.2500E-09    1.0000E+02\n",
      "ir =   58    ii =    0\n",
      "   -9.3750E-10    1.0000E+02\n",
      "ir =   60    ii =    0\n",
      "   -6.2500E-10    1.0000E+02\n",
      "ir =   64    ii =    0\n",
      "    0.0000E+00    1.0000E+02\n",
      "ir =   68    ii =    0\n",
      "    6.2500E-10    1.0000E+02\n",
      "ir =   70    ii =    0\n",
      "    9.3750E-10    1.0000E+02\n",
      "ir =   72    ii =    0\n",
      "    1.2500E-09    1.0000E+02\n",
      "ir =   74    ii =    0\n",
      "    1.5625E-09    1.0000E+02\n",
      "ir =   77    ii =    0\n",
      "    2.0313E-09    1.0000E+02\n",
      "ir =   80    ii =    0\n",
      "    2.5000E-09    1.0000E+02\n",
      "ir =   82    ii =    0\n",
      "    2.8125E-09    1.0000E+02\n",
      "ir =   85    ii =    0\n",
      "    3.2813E-09    1.0000E+02\n",
      "ir =   89    ii =    0\n",
      "    3.9063E-09    1.0000E+02\n",
      "ir =   91    ii =    0\n",
      "    4.2187E-09    1.0000E+02\n",
      "ir =   95    ii =    0\n",
      "    4.8437E-09    1.0000E+02\n",
      "ir =   97    ii =    0\n",
      "    5.1563E-09    1.0000E+02\n",
      "ir =  100    ii =    0\n",
      "    5.6250E-09    1.0000E+02\n",
      "ir =  103    ii =    0\n",
      "    6.0938E-09    1.0000E+02\n",
      "ir =  105    ii =    0\n",
      "    6.4063E-09    1.0000E+02\n",
      "ir =  108    ii =    0\n",
      "    6.8750E-09    1.0000E+02\n",
      "ir =  113    ii =    0\n",
      "    7.6562E-09    1.0000E+02\n",
      "ir =  116    ii =    0\n",
      "    8.1250E-09    1.0000E+02\n",
      "ir =  118    ii =    0\n",
      "    8.4375E-09    1.0000E+02\n",
      "ir =  120    ii =    0\n",
      "    8.7500E-09    1.0000E+02\n",
      "ir =  126    ii =    0\n",
      "    9.6875E-09    1.0000E+02\n",
      "ir =  128    ii =    0\n",
      "    1.0000E-08    1.0000E+02\n",
      "Refining roots\n",
      "Dispersion Solutions \n",
      "  1   -8.1009E-13    3.7188E+00\n",
      "  2    7.8692E-12    1.6155E+02\n",
      "  3   -9.1538E-06    1.6155E+02\n",
      "  4   -8.4375E-09    3.9062E+00\n",
      "  5   -7.6562E-09    3.9062E+00\n",
      "  6   -7.0313E-09    3.9062E+00\n",
      "  7   -6.5625E-09    3.9062E+00\n",
      "  8   -6.0938E-09    3.9062E+00\n",
      "  9   -5.4687E-09    3.9062E+00\n",
      " 10   -5.1563E-09    3.9062E+00\n",
      " 11   -4.8437E-09    3.9062E+00\n",
      " 12   -4.3750E-09    3.9062E+00\n",
      " 13   -3.7500E-09    3.9062E+00\n",
      " 14   -3.1250E-09    3.9062E+00\n",
      " 15   -2.6563E-09    3.9062E+00\n",
      " 16   -2.1875E-09    3.9062E+00\n",
      " 17   -1.7188E-09    3.9062E+00\n",
      " 18   -4.6875E-10    3.9062E+00\n",
      " 19    0.0000E+00    3.9062E+00\n",
      " 20    4.6875E-10    3.9062E+00\n",
      "Input for Root 1:  -8.1009E-13  3.7188E+00\n",
      " get_indexed_namelist: following namelist not found guess_2\n",
      "Input for Root 2:  -8.1009E-13  3.7188E+00\n",
      " get_indexed_namelist: following namelist not found guess_3\n",
      "Input for Root 3:  -8.1009E-13  3.7188E+00\n",
      " get_indexed_namelist: following namelist not found guess_4\n",
      "Input for Root 4:  -8.1009E-13  3.7188E+00\n",
      " get_indexed_namelist: following namelist not found guess_5\n",
      "Input for Root 5:  -8.1009E-13  3.7188E+00\n",
      " get_indexed_namelist: following namelist not found guess_6\n",
      "Input for Root 6:  -8.1009E-13  3.7188E+00\n",
      " get_indexed_namelist: following namelist not found guess_7\n",
      "Input for Root 7:  -8.1009E-13  3.7188E+00\n",
      " get_indexed_namelist: following namelist not found guess_8\n",
      "Input for Root 8:  -8.1009E-13  3.7188E+00\n",
      " get_indexed_namelist: following namelist not found guess_9\n",
      "Input for Root 9:  -8.1009E-13  3.7188E+00\n",
      " get_indexed_namelist: following namelist not found guess_10\n",
      "Input for Root 10:  -8.1009E-13  3.7188E+00\n",
      " get_indexed_namelist: following namelist not found guess_11\n",
      "Input for Root 11:  -8.1009E-13  3.7188E+00\n",
      " get_indexed_namelist: following namelist not found guess_12\n",
      "Input for Root 12:  -8.1009E-13  3.7188E+00\n",
      " get_indexed_namelist: following namelist not found guess_13\n",
      "Input for Root 13:  -8.1009E-13  3.7188E+00\n",
      " get_indexed_namelist: following namelist not found guess_14\n",
      "Input for Root 14:  -8.1009E-13  3.7188E+00\n",
      " get_indexed_namelist: following namelist not found guess_15\n",
      "Input for Root 15:  -8.1009E-13  3.7188E+00\n",
      " get_indexed_namelist: following namelist not found guess_16\n",
      "Input for Root 16:  -8.1009E-13  3.7188E+00\n",
      " get_indexed_namelist: following namelist not found guess_17\n",
      "Input for Root 17:  -8.1009E-13  3.7188E+00\n",
      " get_indexed_namelist: following namelist not found guess_18\n",
      "Input for Root 18:  -8.1009E-13  3.7188E+00\n",
      " get_indexed_namelist: following namelist not found guess_19\n",
      "Input for Root 19:  -8.1009E-13  3.7188E+00\n",
      " get_indexed_namelist: following namelist not found guess_20\n",
      "Input for Root 20:  -8.1009E-13  3.7188E+00\n",
      "Dispersion Solutions \n",
      "  1   -2.7310E-14    3.7188E+00\n",
      "  2   -2.7310E-14    3.7188E+00\n",
      "  3   -2.7310E-14    3.7188E+00\n",
      "  4   -2.7310E-14    3.7188E+00\n",
      "  5   -2.7310E-14    3.7188E+00\n",
      "  6   -2.7310E-14    3.7188E+00\n",
      "  7   -2.7310E-14    3.7188E+00\n",
      "  8   -2.7310E-14    3.7188E+00\n",
      "  9   -2.7310E-14    3.7188E+00\n",
      " 10   -2.7310E-14    3.7188E+00\n",
      " 11   -2.7310E-14    3.7188E+00\n",
      " 12   -2.7310E-14    3.7188E+00\n",
      " 13   -2.7310E-14    3.7188E+00\n",
      " 14   -2.7310E-14    3.7188E+00\n",
      " 15   -2.7310E-14    3.7188E+00\n",
      " 16   -2.7310E-14    3.7188E+00\n",
      " 17   -2.7310E-14    3.7188E+00\n",
      " 18   -2.7310E-14    3.7188E+00\n",
      " 19   -2.7310E-14    3.7188E+00\n",
      " 20   -2.7310E-14    3.7188E+00\n",
      "Scan over kperp from    -1.0000E-05 to    -1.0000E-05\n",
      " =>data/weibel/pointeigenatpoint_tensor_kperp_0_0\n",
      "Root   1 In:    -2.7310E-14    3.7188E+00\n",
      "Root   2 In:    -2.7310E-14    3.7188E+00\n",
      "Root   3 In:    -2.7310E-14    3.7188E+00\n",
      "Root   4 In:    -2.7310E-14    3.7188E+00\n",
      "Root   5 In:    -2.7310E-14    3.7188E+00\n",
      "Root   6 In:    -2.7310E-14    3.7188E+00\n",
      "Root   7 In:    -2.7310E-14    3.7188E+00\n",
      "Root   8 In:    -2.7310E-14    3.7188E+00\n",
      "Root   9 In:    -2.7310E-14    3.7188E+00\n",
      "Root  10 In:    -2.7310E-14    3.7188E+00\n",
      "Root  11 In:    -2.7310E-14    3.7188E+00\n",
      "Root  12 In:    -2.7310E-14    3.7188E+00\n",
      "Root  13 In:    -2.7310E-14    3.7188E+00\n",
      "Root  14 In:    -2.7310E-14    3.7188E+00\n",
      "Root  15 In:    -2.7310E-14    3.7188E+00\n",
      "Root  16 In:    -2.7310E-14    3.7188E+00\n",
      "Root  17 In:    -2.7310E-14    3.7188E+00\n",
      "Root  18 In:    -2.7310E-14    3.7188E+00\n",
      "Root  19 In:    -2.7310E-14    3.7188E+00\n",
      "Root  20 In:    -2.7310E-14    3.7188E+00\n",
      "Root   1 Out:     0.0000E+00    3.7188E+00\n",
      "Root   2 Out:     0.0000E+00    3.7188E+00\n",
      "Root   3 Out:     0.0000E+00    3.7188E+00\n",
      "Root   4 Out:     0.0000E+00    3.7188E+00\n",
      "Root   5 Out:     0.0000E+00    3.7188E+00\n",
      "Root   6 Out:     0.0000E+00    3.7188E+00\n",
      "Root   7 Out:     0.0000E+00    3.7188E+00\n",
      "Root   8 Out:     0.0000E+00    3.7188E+00\n",
      "Root   9 Out:     0.0000E+00    3.7188E+00\n",
      "Root  10 Out:     0.0000E+00    3.7188E+00\n",
      "Root  11 Out:     0.0000E+00    3.7188E+00\n",
      "Root  12 Out:     0.0000E+00    3.7188E+00\n",
      "Root  13 Out:     0.0000E+00    3.7188E+00\n",
      "Root  14 Out:     0.0000E+00    3.7188E+00\n",
      "Root  15 Out:     0.0000E+00    3.7188E+00\n",
      "Root  16 Out:     0.0000E+00    3.7188E+00\n",
      "Root  17 Out:     0.0000E+00    3.7188E+00\n",
      "Root  18 Out:     0.0000E+00    3.7188E+00\n",
      "Root  19 Out:     0.0000E+00    3.7188E+00\n",
      "Root  20 Out:     0.0000E+00    3.7188E+00\n",
      " E\n",
      " Predicting FPC (cart coords)...\n",
      "Input for Root 1:  -8.1009E-13  3.7188E+00\n",
      "Dispersion Solutions \n",
      "  1   -2.7310E-14    3.7188E+00\n",
      " Assuming data folder already exists...\n",
      " assuming subfolder weibel already exists\n",
      " Calculating fpc for species            1\n",
      " Writing omega/kpar V_a normalization to file...\n",
      " Calculating fpc for species            2\n",
      " Writing omega/kpar V_a normalization to file...\n",
      " Calculating fpc for species            3\n",
      " Writing omega/kpar V_a normalization to file...\n",
      "nir=     -2.93E-01   -6.55E-01      0.447\n",
      "nii=      2.08E+03    4.64E+03      0.447\n",
      "ner=     -4.69E+01    4.64E+03     -0.010\n",
      "nei=      3.26E+00    9.95E+04      0.000\n",
      "\n",
      "uxir=     1.18E-01    2.63E-01         4.47E-01         1.18E-01    2.63E-01\n",
      "uxii=    -3.06E-07   -6.84E-07         4.47E-01           -0.000      -0.000\n",
      "uyir=     3.33E-03    7.44E-03         4.47E-01         3.33E-03    7.44E-03\n",
      "uyii=     9.95E-08    2.23E-07         4.47E-01            0.000       0.000\n",
      "uzir=     6.37E+03    1.42E+04         4.47E-01         6.37E+03    1.42E+04\n",
      "uzii=     8.99E-01    2.01E+00         4.47E-01            0.000       0.000\n",
      "\n",
      "uxer=     1.16E-01    2.60E-01         4.47E-01         5.66E+00    1.26E+01\n",
      "uxei=    -5.66E+00   -1.26E+01         4.47E-01           -0.493      -0.493\n",
      "uyei=    -1.32E-01   -2.95E-01         4.47E-01           -0.371      -0.371\n",
      "uzer=     6.37E+03    1.42E+04         4.47E-01         6.38E+03    1.43E+04\n",
      "uzei=    -2.97E+02   -5.97E+02         4.98E-01           -0.015      -0.013\n"
     ]
    }
   ],
   "source": [
    "os.system('cat outlog')"
   ]
  },
  {
   "cell_type": "code",
   "execution_count": null,
   "metadata": {},
   "outputs": [],
   "source": []
  }
 ],
 "metadata": {
  "kernelspec": {
   "display_name": "Python 3 (ipykernel)",
   "language": "python",
   "name": "python3"
  },
  "language_info": {
   "codemirror_mode": {
    "name": "ipython",
    "version": 3
   },
   "file_extension": ".py",
   "mimetype": "text/x-python",
   "name": "python",
   "nbconvert_exporter": "python",
   "pygments_lexer": "ipython3",
   "version": "3.8.5"
  }
 },
 "nbformat": 4,
 "nbformat_minor": 4
}
